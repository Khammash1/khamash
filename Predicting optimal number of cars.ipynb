{
 "cells": [
  {
   "cell_type": "markdown",
   "id": "a67f0e50",
   "metadata": {},
   "source": [
    "## imports"
   ]
  },
  {
   "cell_type": "code",
   "execution_count": 60,
   "id": "d4c6e918",
   "metadata": {},
   "outputs": [],
   "source": [
    "import pandas as pd\n",
    "import seaborn as sns\n",
    "import matplotlib.pyplot as plt\n",
    "import numpy as np\n",
    "\n",
    "np.random.seed(0)"
   ]
  },
  {
   "cell_type": "markdown",
   "id": "e7668ee2",
   "metadata": {},
   "source": [
    "## datasets"
   ]
  },
  {
   "cell_type": "code",
   "execution_count": 61,
   "id": "eee91239",
   "metadata": {},
   "outputs": [],
   "source": [
    "df = pd.read_csv('Final_Sheet.csv')\n",
    "\n",
    "#holiday dataset\n",
    "holiday_df = pd.read_csv('UAE_Holidays.csv')\n",
    "\n",
    "#weather dataset\n",
    "#https://meteostat.net/en/station/41194?t=2021-01-01/2021-12-31\n",
    "weather_df = pd.read_csv('weather.csv')"
   ]
  },
  {
   "cell_type": "code",
   "execution_count": 62,
   "id": "c07d167e",
   "metadata": {},
   "outputs": [],
   "source": [
    "pd.set_option('display.max_colwidth', None)"
   ]
  },
  {
   "cell_type": "code",
   "execution_count": 63,
   "id": "346a694d",
   "metadata": {},
   "outputs": [
    {
     "data": {
      "text/html": [
       "<div>\n",
       "<style scoped>\n",
       "    .dataframe tbody tr th:only-of-type {\n",
       "        vertical-align: middle;\n",
       "    }\n",
       "\n",
       "    .dataframe tbody tr th {\n",
       "        vertical-align: top;\n",
       "    }\n",
       "\n",
       "    .dataframe thead th {\n",
       "        text-align: right;\n",
       "    }\n",
       "</style>\n",
       "<table border=\"1\" class=\"dataframe\">\n",
       "  <thead>\n",
       "    <tr style=\"text-align: right;\">\n",
       "      <th></th>\n",
       "      <th>Date</th>\n",
       "      <th>Year</th>\n",
       "      <th>Day</th>\n",
       "      <th>DayWeek</th>\n",
       "      <th>Vehicles</th>\n",
       "      <th>Drivers</th>\n",
       "      <th>Trips</th>\n",
       "      <th>RevPerTrips</th>\n",
       "      <th>TripsPerCar</th>\n",
       "      <th>IncomePerCar</th>\n",
       "      <th>...</th>\n",
       "      <th>IncomePerDriver</th>\n",
       "      <th>Distance</th>\n",
       "      <th>PaidDistance</th>\n",
       "      <th>RevKM</th>\n",
       "      <th>ShiftIncome</th>\n",
       "      <th>ShiftTolls</th>\n",
       "      <th>Income-Tolls</th>\n",
       "      <th>OperatingCost</th>\n",
       "      <th>CostPerKm</th>\n",
       "      <th>YieldPerRevKm</th>\n",
       "    </tr>\n",
       "  </thead>\n",
       "  <tbody>\n",
       "    <tr>\n",
       "      <th>0</th>\n",
       "      <td>NaN</td>\n",
       "      <td>NaN</td>\n",
       "      <td>NaN</td>\n",
       "      <td>NaN</td>\n",
       "      <td>Number of vehicles in this day</td>\n",
       "      <td>Number of drivers</td>\n",
       "      <td>number of trips</td>\n",
       "      <td>total revenue/total trips</td>\n",
       "      <td>total trips / total car</td>\n",
       "      <td>total incom/total car</td>\n",
       "      <td>...</td>\n",
       "      <td>total incom/total driver</td>\n",
       "      <td>total km in this day</td>\n",
       "      <td>total paid KM</td>\n",
       "      <td>total paid KM/total KM</td>\n",
       "      <td>Total income in this day</td>\n",
       "      <td>road fees</td>\n",
       "      <td>total incom - road fees</td>\n",
       "      <td>NaN</td>\n",
       "      <td>NaN</td>\n",
       "      <td>NaN</td>\n",
       "    </tr>\n",
       "    <tr>\n",
       "      <th>1</th>\n",
       "      <td>1/1/2021</td>\n",
       "      <td>2021.0</td>\n",
       "      <td>1.0</td>\n",
       "      <td>Fri</td>\n",
       "      <td>4,996</td>\n",
       "      <td>7,737</td>\n",
       "      <td>120,745</td>\n",
       "      <td>33</td>\n",
       "      <td>24</td>\n",
       "      <td>795</td>\n",
       "      <td>...</td>\n",
       "      <td>513</td>\n",
       "      <td>2,878,696</td>\n",
       "      <td>1,596,844</td>\n",
       "      <td>0.554710882983128</td>\n",
       "      <td>4,135,264</td>\n",
       "      <td>164,124</td>\n",
       "      <td>3,971,139.88</td>\n",
       "      <td>489,378.32</td>\n",
       "      <td>0.17</td>\n",
       "      <td>0.38</td>\n",
       "    </tr>\n",
       "    <tr>\n",
       "      <th>2</th>\n",
       "      <td>1/2/2021</td>\n",
       "      <td>2021.0</td>\n",
       "      <td>2.0</td>\n",
       "      <td>Sat</td>\n",
       "      <td>4,955</td>\n",
       "      <td>7,621</td>\n",
       "      <td>104,004</td>\n",
       "      <td>33</td>\n",
       "      <td>21</td>\n",
       "      <td>683</td>\n",
       "      <td>...</td>\n",
       "      <td>444</td>\n",
       "      <td>2,534,566</td>\n",
       "      <td>1,360,274</td>\n",
       "      <td>0.536689121530076</td>\n",
       "      <td>3,530,878</td>\n",
       "      <td>145,320</td>\n",
       "      <td>3,385,557.60</td>\n",
       "      <td>430,876.22</td>\n",
       "      <td>0.17</td>\n",
       "      <td>0.37</td>\n",
       "    </tr>\n",
       "    <tr>\n",
       "      <th>3</th>\n",
       "      <td>1/3/2021</td>\n",
       "      <td>2021.0</td>\n",
       "      <td>3.0</td>\n",
       "      <td>Sun</td>\n",
       "      <td>4,949</td>\n",
       "      <td>7,606</td>\n",
       "      <td>105,960</td>\n",
       "      <td>30</td>\n",
       "      <td>21</td>\n",
       "      <td>642</td>\n",
       "      <td>...</td>\n",
       "      <td>418</td>\n",
       "      <td>2,418,782</td>\n",
       "      <td>1,274,102</td>\n",
       "      <td>0.526753547860039</td>\n",
       "      <td>3,334,281</td>\n",
       "      <td>156,768</td>\n",
       "      <td>3,177,513.04</td>\n",
       "      <td>411,192.94</td>\n",
       "      <td>0.17</td>\n",
       "      <td>0.36</td>\n",
       "    </tr>\n",
       "    <tr>\n",
       "      <th>4</th>\n",
       "      <td>1/4/2021</td>\n",
       "      <td>2021.0</td>\n",
       "      <td>4.0</td>\n",
       "      <td>Mon</td>\n",
       "      <td>4,974</td>\n",
       "      <td>7,628</td>\n",
       "      <td>101,534</td>\n",
       "      <td>30</td>\n",
       "      <td>20</td>\n",
       "      <td>617</td>\n",
       "      <td>...</td>\n",
       "      <td>402</td>\n",
       "      <td>2,363,776</td>\n",
       "      <td>1,223,709</td>\n",
       "      <td>0.51769245478421</td>\n",
       "      <td>3,216,162</td>\n",
       "      <td>149,404</td>\n",
       "      <td>3,066,758.24</td>\n",
       "      <td>401,841.92</td>\n",
       "      <td>0.17</td>\n",
       "      <td>0.35</td>\n",
       "    </tr>\n",
       "  </tbody>\n",
       "</table>\n",
       "<p>5 rows × 21 columns</p>\n",
       "</div>"
      ],
      "text/plain": [
       "       Date    Year   Day  DayWeek                        Vehicles  \\\n",
       "0       NaN     NaN    NaN     NaN  Number of vehicles in this day   \n",
       "1  1/1/2021  2021.0    1.0     Fri                          4,996    \n",
       "2  1/2/2021  2021.0    2.0     Sat                          4,955    \n",
       "3  1/3/2021  2021.0    3.0     Sun                          4,949    \n",
       "4  1/4/2021  2021.0    4.0     Mon                          4,974    \n",
       "\n",
       "             Drivers            Trips                 RevPerTrips   \\\n",
       "0  Number of drivers  number of trips   total revenue/total trips    \n",
       "1             7,737          120,745                           33    \n",
       "2             7,621          104,004                           33    \n",
       "3             7,606          105,960                           30    \n",
       "4             7,628          101,534                           30    \n",
       "\n",
       "               TripsPerCar            IncomePerCar   ...  \\\n",
       "0  total trips / total car   total incom/total car   ...   \n",
       "1                      24                      795   ...   \n",
       "2                      21                      683   ...   \n",
       "3                      21                      642   ...   \n",
       "4                      20                      617   ...   \n",
       "\n",
       "             IncomePerDriver                Distance     PaidDistance   \\\n",
       "0   total incom/total driver    total km in this day    total paid KM    \n",
       "1                        513               2,878,696        1,596,844    \n",
       "2                        444               2,534,566        1,360,274    \n",
       "3                        418               2,418,782        1,274,102    \n",
       "4                        402               2,363,776        1,223,709    \n",
       "\n",
       "                      RevKM                ShiftIncome   ShiftTolls   \\\n",
       "0   total paid KM/total KM    Total income in this day    road fees    \n",
       "1         0.554710882983128                  4,135,264      164,124    \n",
       "2         0.536689121530076                  3,530,878      145,320    \n",
       "3         0.526753547860039                  3,334,281      156,768    \n",
       "4          0.51769245478421                  3,216,162      149,404    \n",
       "\n",
       "               Income-Tolls   OperatingCost   CostPerKm    YieldPerRevKm   \n",
       "0   total incom - road fees              NaN         NaN              NaN  \n",
       "1              3,971,139.88      489,378.32         0.17             0.38  \n",
       "2              3,385,557.60      430,876.22         0.17             0.37  \n",
       "3              3,177,513.04      411,192.94         0.17             0.36  \n",
       "4              3,066,758.24      401,841.92         0.17             0.35  \n",
       "\n",
       "[5 rows x 21 columns]"
      ]
     },
     "execution_count": 63,
     "metadata": {},
     "output_type": "execute_result"
    }
   ],
   "source": [
    "df.head()"
   ]
  },
  {
   "cell_type": "code",
   "execution_count": 64,
   "id": "b8a1b5fa",
   "metadata": {},
   "outputs": [
    {
     "data": {
      "text/html": [
       "<div>\n",
       "<style scoped>\n",
       "    .dataframe tbody tr th:only-of-type {\n",
       "        vertical-align: middle;\n",
       "    }\n",
       "\n",
       "    .dataframe tbody tr th {\n",
       "        vertical-align: top;\n",
       "    }\n",
       "\n",
       "    .dataframe thead th {\n",
       "        text-align: right;\n",
       "    }\n",
       "</style>\n",
       "<table border=\"1\" class=\"dataframe\">\n",
       "  <thead>\n",
       "    <tr style=\"text-align: right;\">\n",
       "      <th></th>\n",
       "      <th>Date</th>\n",
       "      <th>Eve</th>\n",
       "    </tr>\n",
       "  </thead>\n",
       "  <tbody>\n",
       "    <tr>\n",
       "      <th>0</th>\n",
       "      <td>01-01-2021</td>\n",
       "      <td>New Year's Day</td>\n",
       "    </tr>\n",
       "    <tr>\n",
       "      <th>1</th>\n",
       "      <td>11-05-2021</td>\n",
       "      <td>Eid Al Fitr</td>\n",
       "    </tr>\n",
       "    <tr>\n",
       "      <th>2</th>\n",
       "      <td>12-05-2021</td>\n",
       "      <td>Eid Al Fitr</td>\n",
       "    </tr>\n",
       "    <tr>\n",
       "      <th>3</th>\n",
       "      <td>13-05-2021</td>\n",
       "      <td>Eid Al Fitr</td>\n",
       "    </tr>\n",
       "    <tr>\n",
       "      <th>4</th>\n",
       "      <td>19-07-2021</td>\n",
       "      <td>Arafat Day</td>\n",
       "    </tr>\n",
       "  </tbody>\n",
       "</table>\n",
       "</div>"
      ],
      "text/plain": [
       "         Date             Eve\n",
       "0  01-01-2021  New Year's Day\n",
       "1  11-05-2021     Eid Al Fitr\n",
       "2  12-05-2021     Eid Al Fitr\n",
       "3  13-05-2021     Eid Al Fitr\n",
       "4  19-07-2021      Arafat Day"
      ]
     },
     "execution_count": 64,
     "metadata": {},
     "output_type": "execute_result"
    }
   ],
   "source": [
    "holiday_df.head()"
   ]
  },
  {
   "cell_type": "code",
   "execution_count": 65,
   "id": "5f2c46b2",
   "metadata": {},
   "outputs": [
    {
     "data": {
      "text/html": [
       "<div>\n",
       "<style scoped>\n",
       "    .dataframe tbody tr th:only-of-type {\n",
       "        vertical-align: middle;\n",
       "    }\n",
       "\n",
       "    .dataframe tbody tr th {\n",
       "        vertical-align: top;\n",
       "    }\n",
       "\n",
       "    .dataframe thead th {\n",
       "        text-align: right;\n",
       "    }\n",
       "</style>\n",
       "<table border=\"1\" class=\"dataframe\">\n",
       "  <thead>\n",
       "    <tr style=\"text-align: right;\">\n",
       "      <th></th>\n",
       "      <th>date</th>\n",
       "      <th>tavg</th>\n",
       "      <th>tmin</th>\n",
       "      <th>tmax</th>\n",
       "      <th>prcp</th>\n",
       "      <th>snow</th>\n",
       "      <th>wdir</th>\n",
       "      <th>wspd</th>\n",
       "      <th>wpgt</th>\n",
       "      <th>pres</th>\n",
       "      <th>tsun</th>\n",
       "    </tr>\n",
       "  </thead>\n",
       "  <tbody>\n",
       "    <tr>\n",
       "      <th>0</th>\n",
       "      <td>2021-01-01</td>\n",
       "      <td>21.7</td>\n",
       "      <td>17.8</td>\n",
       "      <td>26.6</td>\n",
       "      <td>0.0</td>\n",
       "      <td>NaN</td>\n",
       "      <td>71</td>\n",
       "      <td>9.4</td>\n",
       "      <td>NaN</td>\n",
       "      <td>1017.4</td>\n",
       "      <td>NaN</td>\n",
       "    </tr>\n",
       "    <tr>\n",
       "      <th>1</th>\n",
       "      <td>2021-01-02</td>\n",
       "      <td>21.4</td>\n",
       "      <td>16.6</td>\n",
       "      <td>26.2</td>\n",
       "      <td>0.0</td>\n",
       "      <td>NaN</td>\n",
       "      <td>32</td>\n",
       "      <td>9.1</td>\n",
       "      <td>NaN</td>\n",
       "      <td>1018.2</td>\n",
       "      <td>NaN</td>\n",
       "    </tr>\n",
       "    <tr>\n",
       "      <th>2</th>\n",
       "      <td>2021-01-03</td>\n",
       "      <td>20.6</td>\n",
       "      <td>16.7</td>\n",
       "      <td>24.8</td>\n",
       "      <td>0.0</td>\n",
       "      <td>NaN</td>\n",
       "      <td>33</td>\n",
       "      <td>9.4</td>\n",
       "      <td>NaN</td>\n",
       "      <td>1017.0</td>\n",
       "      <td>NaN</td>\n",
       "    </tr>\n",
       "    <tr>\n",
       "      <th>3</th>\n",
       "      <td>2021-01-04</td>\n",
       "      <td>19.8</td>\n",
       "      <td>14.4</td>\n",
       "      <td>24.9</td>\n",
       "      <td>0.0</td>\n",
       "      <td>NaN</td>\n",
       "      <td>67</td>\n",
       "      <td>10.9</td>\n",
       "      <td>NaN</td>\n",
       "      <td>1016.7</td>\n",
       "      <td>NaN</td>\n",
       "    </tr>\n",
       "    <tr>\n",
       "      <th>4</th>\n",
       "      <td>2021-01-05</td>\n",
       "      <td>19.8</td>\n",
       "      <td>14.0</td>\n",
       "      <td>25.3</td>\n",
       "      <td>0.0</td>\n",
       "      <td>NaN</td>\n",
       "      <td>57</td>\n",
       "      <td>8.8</td>\n",
       "      <td>NaN</td>\n",
       "      <td>1018.2</td>\n",
       "      <td>NaN</td>\n",
       "    </tr>\n",
       "  </tbody>\n",
       "</table>\n",
       "</div>"
      ],
      "text/plain": [
       "         date  tavg  tmin  tmax  prcp  snow  wdir  wspd  wpgt    pres  tsun\n",
       "0  2021-01-01  21.7  17.8  26.6   0.0   NaN    71   9.4   NaN  1017.4   NaN\n",
       "1  2021-01-02  21.4  16.6  26.2   0.0   NaN    32   9.1   NaN  1018.2   NaN\n",
       "2  2021-01-03  20.6  16.7  24.8   0.0   NaN    33   9.4   NaN  1017.0   NaN\n",
       "3  2021-01-04  19.8  14.4  24.9   0.0   NaN    67  10.9   NaN  1016.7   NaN\n",
       "4  2021-01-05  19.8  14.0  25.3   0.0   NaN    57   8.8   NaN  1018.2   NaN"
      ]
     },
     "execution_count": 65,
     "metadata": {},
     "output_type": "execute_result"
    }
   ],
   "source": [
    "weather_df.head()"
   ]
  },
  {
   "cell_type": "code",
   "execution_count": 66,
   "id": "dc663a5d",
   "metadata": {},
   "outputs": [],
   "source": [
    "#now we'll merge all data\n",
    "df['Date'] = pd.to_datetime(df['Date'])\n",
    "\n",
    "holiday_df['Date'] = pd.to_datetime(holiday_df['Date'])\n",
    "holiday_df['Eve'] = 1\n",
    "\n",
    "weather_df['Date'] = pd.to_datetime(weather_df['date'])\n",
    "weather_df.drop(['snow', 'prcp','wpgt', 'tsun'], axis=1, inplace=True)"
   ]
  },
  {
   "cell_type": "code",
   "execution_count": 67,
   "id": "cee97613",
   "metadata": {},
   "outputs": [],
   "source": [
    "df = df.merge(holiday_df, on=\"Date\", how=\"left\")\n",
    "df = df.merge(weather_df, on=\"Date\", how=\"left\")\n",
    "df['Eve'].fillna(0, inplace = True)"
   ]
  },
  {
   "cell_type": "code",
   "execution_count": 68,
   "id": "de22bc48",
   "metadata": {},
   "outputs": [],
   "source": [
    "pd.set_option('display.max_colwidth', None)"
   ]
  },
  {
   "cell_type": "code",
   "execution_count": 69,
   "id": "9b605bc7",
   "metadata": {},
   "outputs": [
    {
     "data": {
      "text/html": [
       "<div>\n",
       "<style scoped>\n",
       "    .dataframe tbody tr th:only-of-type {\n",
       "        vertical-align: middle;\n",
       "    }\n",
       "\n",
       "    .dataframe tbody tr th {\n",
       "        vertical-align: top;\n",
       "    }\n",
       "\n",
       "    .dataframe thead th {\n",
       "        text-align: right;\n",
       "    }\n",
       "</style>\n",
       "<table border=\"1\" class=\"dataframe\">\n",
       "  <thead>\n",
       "    <tr style=\"text-align: right;\">\n",
       "      <th></th>\n",
       "      <th>Date</th>\n",
       "      <th>Year</th>\n",
       "      <th>Day</th>\n",
       "      <th>DayWeek</th>\n",
       "      <th>Vehicles</th>\n",
       "      <th>Drivers</th>\n",
       "      <th>Trips</th>\n",
       "      <th>RevPerTrips</th>\n",
       "      <th>TripsPerCar</th>\n",
       "      <th>IncomePerCar</th>\n",
       "      <th>...</th>\n",
       "      <th>CostPerKm</th>\n",
       "      <th>YieldPerRevKm</th>\n",
       "      <th>Eve</th>\n",
       "      <th>date</th>\n",
       "      <th>tavg</th>\n",
       "      <th>tmin</th>\n",
       "      <th>tmax</th>\n",
       "      <th>wdir</th>\n",
       "      <th>wspd</th>\n",
       "      <th>pres</th>\n",
       "    </tr>\n",
       "  </thead>\n",
       "  <tbody>\n",
       "    <tr>\n",
       "      <th>0</th>\n",
       "      <td>NaT</td>\n",
       "      <td>NaN</td>\n",
       "      <td>NaN</td>\n",
       "      <td>NaN</td>\n",
       "      <td>Number of vehicles in this day</td>\n",
       "      <td>Number of drivers</td>\n",
       "      <td>number of trips</td>\n",
       "      <td>total revenue/total trips</td>\n",
       "      <td>total trips / total car</td>\n",
       "      <td>total incom/total car</td>\n",
       "      <td>...</td>\n",
       "      <td>NaN</td>\n",
       "      <td>NaN</td>\n",
       "      <td>0.0</td>\n",
       "      <td>NaN</td>\n",
       "      <td>NaN</td>\n",
       "      <td>NaN</td>\n",
       "      <td>NaN</td>\n",
       "      <td>NaN</td>\n",
       "      <td>NaN</td>\n",
       "      <td>NaN</td>\n",
       "    </tr>\n",
       "    <tr>\n",
       "      <th>1</th>\n",
       "      <td>2021-01-01</td>\n",
       "      <td>2021.0</td>\n",
       "      <td>1.0</td>\n",
       "      <td>Fri</td>\n",
       "      <td>4,996</td>\n",
       "      <td>7,737</td>\n",
       "      <td>120,745</td>\n",
       "      <td>33</td>\n",
       "      <td>24</td>\n",
       "      <td>795</td>\n",
       "      <td>...</td>\n",
       "      <td>0.17</td>\n",
       "      <td>0.38</td>\n",
       "      <td>1.0</td>\n",
       "      <td>2021-01-01</td>\n",
       "      <td>21.7</td>\n",
       "      <td>17.8</td>\n",
       "      <td>26.6</td>\n",
       "      <td>71.0</td>\n",
       "      <td>9.4</td>\n",
       "      <td>1017.4</td>\n",
       "    </tr>\n",
       "    <tr>\n",
       "      <th>2</th>\n",
       "      <td>2021-01-02</td>\n",
       "      <td>2021.0</td>\n",
       "      <td>2.0</td>\n",
       "      <td>Sat</td>\n",
       "      <td>4,955</td>\n",
       "      <td>7,621</td>\n",
       "      <td>104,004</td>\n",
       "      <td>33</td>\n",
       "      <td>21</td>\n",
       "      <td>683</td>\n",
       "      <td>...</td>\n",
       "      <td>0.17</td>\n",
       "      <td>0.37</td>\n",
       "      <td>0.0</td>\n",
       "      <td>2021-01-02</td>\n",
       "      <td>21.4</td>\n",
       "      <td>16.6</td>\n",
       "      <td>26.2</td>\n",
       "      <td>32.0</td>\n",
       "      <td>9.1</td>\n",
       "      <td>1018.2</td>\n",
       "    </tr>\n",
       "    <tr>\n",
       "      <th>3</th>\n",
       "      <td>2021-01-03</td>\n",
       "      <td>2021.0</td>\n",
       "      <td>3.0</td>\n",
       "      <td>Sun</td>\n",
       "      <td>4,949</td>\n",
       "      <td>7,606</td>\n",
       "      <td>105,960</td>\n",
       "      <td>30</td>\n",
       "      <td>21</td>\n",
       "      <td>642</td>\n",
       "      <td>...</td>\n",
       "      <td>0.17</td>\n",
       "      <td>0.36</td>\n",
       "      <td>0.0</td>\n",
       "      <td>2021-01-03</td>\n",
       "      <td>20.6</td>\n",
       "      <td>16.7</td>\n",
       "      <td>24.8</td>\n",
       "      <td>33.0</td>\n",
       "      <td>9.4</td>\n",
       "      <td>1017.0</td>\n",
       "    </tr>\n",
       "    <tr>\n",
       "      <th>4</th>\n",
       "      <td>2021-01-04</td>\n",
       "      <td>2021.0</td>\n",
       "      <td>4.0</td>\n",
       "      <td>Mon</td>\n",
       "      <td>4,974</td>\n",
       "      <td>7,628</td>\n",
       "      <td>101,534</td>\n",
       "      <td>30</td>\n",
       "      <td>20</td>\n",
       "      <td>617</td>\n",
       "      <td>...</td>\n",
       "      <td>0.17</td>\n",
       "      <td>0.35</td>\n",
       "      <td>0.0</td>\n",
       "      <td>2021-01-04</td>\n",
       "      <td>19.8</td>\n",
       "      <td>14.4</td>\n",
       "      <td>24.9</td>\n",
       "      <td>67.0</td>\n",
       "      <td>10.9</td>\n",
       "      <td>1016.7</td>\n",
       "    </tr>\n",
       "    <tr>\n",
       "      <th>...</th>\n",
       "      <td>...</td>\n",
       "      <td>...</td>\n",
       "      <td>...</td>\n",
       "      <td>...</td>\n",
       "      <td>...</td>\n",
       "      <td>...</td>\n",
       "      <td>...</td>\n",
       "      <td>...</td>\n",
       "      <td>...</td>\n",
       "      <td>...</td>\n",
       "      <td>...</td>\n",
       "      <td>...</td>\n",
       "      <td>...</td>\n",
       "      <td>...</td>\n",
       "      <td>...</td>\n",
       "      <td>...</td>\n",
       "      <td>...</td>\n",
       "      <td>...</td>\n",
       "      <td>...</td>\n",
       "      <td>...</td>\n",
       "      <td>...</td>\n",
       "    </tr>\n",
       "    <tr>\n",
       "      <th>361</th>\n",
       "      <td>2021-12-27</td>\n",
       "      <td>2021.0</td>\n",
       "      <td>27.0</td>\n",
       "      <td>Mon</td>\n",
       "      <td>4,815</td>\n",
       "      <td>6,835</td>\n",
       "      <td>118,121</td>\n",
       "      <td>36</td>\n",
       "      <td>25</td>\n",
       "      <td>872</td>\n",
       "      <td>...</td>\n",
       "      <td>0.23</td>\n",
       "      <td>0.37</td>\n",
       "      <td>0.0</td>\n",
       "      <td>2021-12-27</td>\n",
       "      <td>23.7</td>\n",
       "      <td>21.0</td>\n",
       "      <td>26.0</td>\n",
       "      <td>268.0</td>\n",
       "      <td>14.6</td>\n",
       "      <td>1017.0</td>\n",
       "    </tr>\n",
       "    <tr>\n",
       "      <th>362</th>\n",
       "      <td>2021-12-28</td>\n",
       "      <td>2021.0</td>\n",
       "      <td>28.0</td>\n",
       "      <td>Tue</td>\n",
       "      <td>4,867</td>\n",
       "      <td>6,868</td>\n",
       "      <td>120,284</td>\n",
       "      <td>35</td>\n",
       "      <td>25</td>\n",
       "      <td>858</td>\n",
       "      <td>...</td>\n",
       "      <td>0.23</td>\n",
       "      <td>0.38</td>\n",
       "      <td>0.0</td>\n",
       "      <td>2021-12-28</td>\n",
       "      <td>22.6</td>\n",
       "      <td>19.0</td>\n",
       "      <td>26.0</td>\n",
       "      <td>226.0</td>\n",
       "      <td>10.0</td>\n",
       "      <td>1017.0</td>\n",
       "    </tr>\n",
       "    <tr>\n",
       "      <th>363</th>\n",
       "      <td>2021-12-29</td>\n",
       "      <td>2021.0</td>\n",
       "      <td>29.0</td>\n",
       "      <td>Wed</td>\n",
       "      <td>4,903</td>\n",
       "      <td>6,923</td>\n",
       "      <td>125,083</td>\n",
       "      <td>35</td>\n",
       "      <td>26</td>\n",
       "      <td>893</td>\n",
       "      <td>...</td>\n",
       "      <td>0.23</td>\n",
       "      <td>0.38</td>\n",
       "      <td>0.0</td>\n",
       "      <td>2021-12-29</td>\n",
       "      <td>22.5</td>\n",
       "      <td>19.0</td>\n",
       "      <td>26.0</td>\n",
       "      <td>92.0</td>\n",
       "      <td>9.1</td>\n",
       "      <td>1016.4</td>\n",
       "    </tr>\n",
       "    <tr>\n",
       "      <th>364</th>\n",
       "      <td>2021-12-30</td>\n",
       "      <td>2021.0</td>\n",
       "      <td>30.0</td>\n",
       "      <td>Thu</td>\n",
       "      <td>4,933</td>\n",
       "      <td>6,980</td>\n",
       "      <td>128,577</td>\n",
       "      <td>35</td>\n",
       "      <td>26</td>\n",
       "      <td>902</td>\n",
       "      <td>...</td>\n",
       "      <td>0.23</td>\n",
       "      <td>0.39</td>\n",
       "      <td>0.0</td>\n",
       "      <td>2021-12-30</td>\n",
       "      <td>24.0</td>\n",
       "      <td>21.0</td>\n",
       "      <td>28.0</td>\n",
       "      <td>94.0</td>\n",
       "      <td>7.5</td>\n",
       "      <td>1016.1</td>\n",
       "    </tr>\n",
       "    <tr>\n",
       "      <th>365</th>\n",
       "      <td>2021-12-31</td>\n",
       "      <td>2021.0</td>\n",
       "      <td>31.0</td>\n",
       "      <td>Fri</td>\n",
       "      <td>4,897</td>\n",
       "      <td>6,917</td>\n",
       "      <td>118,618</td>\n",
       "      <td>39</td>\n",
       "      <td>24</td>\n",
       "      <td>951</td>\n",
       "      <td>...</td>\n",
       "      <td>0.23</td>\n",
       "      <td>0.42</td>\n",
       "      <td>0.0</td>\n",
       "      <td>2021-12-31</td>\n",
       "      <td>21.6</td>\n",
       "      <td>19.0</td>\n",
       "      <td>24.0</td>\n",
       "      <td>126.0</td>\n",
       "      <td>9.3</td>\n",
       "      <td>1017.2</td>\n",
       "    </tr>\n",
       "  </tbody>\n",
       "</table>\n",
       "<p>366 rows × 29 columns</p>\n",
       "</div>"
      ],
      "text/plain": [
       "          Date    Year   Day  DayWeek                        Vehicles  \\\n",
       "0          NaT     NaN    NaN     NaN  Number of vehicles in this day   \n",
       "1   2021-01-01  2021.0    1.0     Fri                          4,996    \n",
       "2   2021-01-02  2021.0    2.0     Sat                          4,955    \n",
       "3   2021-01-03  2021.0    3.0     Sun                          4,949    \n",
       "4   2021-01-04  2021.0    4.0     Mon                          4,974    \n",
       "..         ...     ...    ...     ...                             ...   \n",
       "361 2021-12-27  2021.0   27.0     Mon                          4,815    \n",
       "362 2021-12-28  2021.0   28.0     Tue                          4,867    \n",
       "363 2021-12-29  2021.0   29.0     Wed                          4,903    \n",
       "364 2021-12-30  2021.0   30.0     Thu                          4,933    \n",
       "365 2021-12-31  2021.0   31.0     Fri                          4,897    \n",
       "\n",
       "               Drivers            Trips                 RevPerTrips   \\\n",
       "0    Number of drivers  number of trips   total revenue/total trips    \n",
       "1               7,737          120,745                           33    \n",
       "2               7,621          104,004                           33    \n",
       "3               7,606          105,960                           30    \n",
       "4               7,628          101,534                           30    \n",
       "..                 ...              ...                          ...   \n",
       "361             6,835          118,121                           36    \n",
       "362             6,868          120,284                           35    \n",
       "363             6,923          125,083                           35    \n",
       "364             6,980          128,577                           35    \n",
       "365             6,917          118,618                           39    \n",
       "\n",
       "                 TripsPerCar            IncomePerCar   ...  CostPerKm   \\\n",
       "0    total trips / total car   total incom/total car   ...         NaN   \n",
       "1                        24                      795   ...        0.17   \n",
       "2                        21                      683   ...        0.17   \n",
       "3                        21                      642   ...        0.17   \n",
       "4                        20                      617   ...        0.17   \n",
       "..                       ...                      ...  ...         ...   \n",
       "361                      25                      872   ...        0.23   \n",
       "362                      25                      858   ...        0.23   \n",
       "363                      26                      893   ...        0.23   \n",
       "364                      26                      902   ...        0.23   \n",
       "365                      24                      951   ...        0.23   \n",
       "\n",
       "     YieldPerRevKm   Eve        date  tavg  tmin  tmax   wdir  wspd    pres  \n",
       "0               NaN  0.0         NaN   NaN   NaN   NaN    NaN   NaN     NaN  \n",
       "1              0.38  1.0  2021-01-01  21.7  17.8  26.6   71.0   9.4  1017.4  \n",
       "2              0.37  0.0  2021-01-02  21.4  16.6  26.2   32.0   9.1  1018.2  \n",
       "3              0.36  0.0  2021-01-03  20.6  16.7  24.8   33.0   9.4  1017.0  \n",
       "4              0.35  0.0  2021-01-04  19.8  14.4  24.9   67.0  10.9  1016.7  \n",
       "..              ...  ...         ...   ...   ...   ...    ...   ...     ...  \n",
       "361            0.37  0.0  2021-12-27  23.7  21.0  26.0  268.0  14.6  1017.0  \n",
       "362            0.38  0.0  2021-12-28  22.6  19.0  26.0  226.0  10.0  1017.0  \n",
       "363            0.38  0.0  2021-12-29  22.5  19.0  26.0   92.0   9.1  1016.4  \n",
       "364            0.39  0.0  2021-12-30  24.0  21.0  28.0   94.0   7.5  1016.1  \n",
       "365            0.42  0.0  2021-12-31  21.6  19.0  24.0  126.0   9.3  1017.2  \n",
       "\n",
       "[366 rows x 29 columns]"
      ]
     },
     "execution_count": 69,
     "metadata": {},
     "output_type": "execute_result"
    }
   ],
   "source": [
    "df"
   ]
  },
  {
   "cell_type": "code",
   "execution_count": 70,
   "id": "b3e578a1",
   "metadata": {},
   "outputs": [],
   "source": [
    "df.drop(0, inplace = True)"
   ]
  },
  {
   "cell_type": "markdown",
   "id": "f6c5bec8",
   "metadata": {},
   "source": [
    "Let's look closer into initial data:\n",
    "- Date - useless\n",
    "- Year - useless\n",
    "- Day and DayWeek - features\n",
    "- Vehicles - value to optimize\n",
    "- Trips - value to predict\n",
    "- Drivers - not sure if needed\n",
    "- RevPerTrips, TripsPerCar, IncomePerCar, TripsPerDriver, IncomePerDriver -- all dependable values\n",
    "- Distance - to predict\n",
    "- PaidDistance - to predict\n",
    "- RevKM - dependable\n",
    "- Income-Tolls - to predict\n",
    "- ShiftIncome and ShiftTolls used above, so useless\n",
    "- OperatingCost - to predict\n",
    "- CostPerKm - constant\n",
    "- YieldPerRevKm - dependable"
   ]
  },
  {
   "cell_type": "markdown",
   "id": "9bc9c711",
   "metadata": {},
   "source": [
    "## Feature engineering"
   ]
  },
  {
   "cell_type": "code",
   "execution_count": 71,
   "id": "3f6ddc5f",
   "metadata": {},
   "outputs": [],
   "source": [
    "df.columns = [x.strip() for x in df.columns]"
   ]
  },
  {
   "cell_type": "code",
   "execution_count": 72,
   "id": "57a17c63",
   "metadata": {},
   "outputs": [
    {
     "name": "stderr",
     "output_type": "stream",
     "text": [
      "/var/folders/pm/pyhv388x3437fw75md066hd40000gn/T/ipykernel_3742/2102221953.py:6: FutureWarning: The default value of regex will change from True to False in a future version. In addition, single character regular expressions will *not* be treated as literal strings when regex=True.\n",
      "  df['Income'] = df['Income-Tolls'].str.replace(\".\",\"\").str.replace(\",\",\"\").str.strip().astype(int)\n",
      "/var/folders/pm/pyhv388x3437fw75md066hd40000gn/T/ipykernel_3742/2102221953.py:7: FutureWarning: The default value of regex will change from True to False in a future version. In addition, single character regular expressions will *not* be treated as literal strings when regex=True.\n",
      "  df['OperatingCost'] = df['OperatingCost'].str.replace(\".\",\"\").str.replace(\",\",\"\").str.strip().astype(int)\n"
     ]
    }
   ],
   "source": [
    "df['Vehicles'] = df['Vehicles'].str.replace(\",\",\"\").str.strip().astype(int)\n",
    "df['Trips'] = df['Trips'].str.replace(\",\",\"\").str.strip().astype(int)\n",
    "df['Drivers'] = df['Drivers'].str.replace(\",\",\"\").str.strip().astype(int)\n",
    "df['Distance'] = df['Distance'].str.replace(\",\",\"\").str.strip().astype(int)\n",
    "df['PaidDistance'] = df['PaidDistance'].str.replace(\",\",\"\").str.strip().astype(int)\n",
    "df['Income'] = df['Income-Tolls'].str.replace(\".\",\"\").str.replace(\",\",\"\").str.strip().astype(int)\n",
    "df['OperatingCost'] = df['OperatingCost'].str.replace(\".\",\"\").str.replace(\",\",\"\").str.strip().astype(int)\n",
    "#df['Revenue'] = df['Income'] - df['OperatingCost']\n",
    "\n",
    "#Time lag features. Notice, we're not lagging Vehicles\n",
    "df['Trips_1'] = df['Trips'].shift()\n",
    "df['Trips_7'] = df['Trips'].shift(7)\n",
    "df['Distance_1'] = df['Distance'].shift()\n",
    "df['Distance_7'] = df['Distance'].shift(7)\n",
    "df['PaidDistance_1'] = df['PaidDistance'].shift()\n",
    "df['PaidDistance_7'] = df['PaidDistance'].shift(7)\n",
    "df['Income_1'] = df['Income'].shift()\n",
    "df['Income_7'] = df['Income'].shift(7)\n",
    "df['OperatingCost_1'] = df['OperatingCost'].shift()\n",
    "df['OperatingCost_7'] = df['OperatingCost'].shift(7)\n",
    "\n",
    "from sklearn import preprocessing\n",
    "le = preprocessing.LabelEncoder()\n",
    "df['DayWeek'] = le.fit_transform(df['DayWeek'])"
   ]
  },
  {
   "cell_type": "code",
   "execution_count": 73,
   "id": "9b217b05",
   "metadata": {},
   "outputs": [],
   "source": [
    "df.dropna(axis=0, inplace=True)"
   ]
  },
  {
   "cell_type": "code",
   "execution_count": 74,
   "id": "43d982e3",
   "metadata": {},
   "outputs": [],
   "source": [
    "# can't use 'Vehicles', 'Trips', 'Distance', 'PaidDistance' as we won't know them beforehand\n",
    "cols = ['Day', 'DayWeek', 'Eve', 'Vehicles', 'Income', 'OperatingCost', 'tavg','tmin','tmax','wdir','wspd','pres']\n",
    "\n",
    "shift_cols = ['Trips_1', 'Trips_7', 'Distance_1', 'Distance_7', 'PaidDistance_1', 'PaidDistance_7', \n",
    "              'Income_1', 'Income_7', 'OperatingCost_1', 'OperatingCost_7']"
   ]
  },
  {
   "cell_type": "code",
   "execution_count": 75,
   "id": "cb4cb24e",
   "metadata": {},
   "outputs": [],
   "source": [
    "new_df = df[cols + shift_cols]"
   ]
  },
  {
   "cell_type": "markdown",
   "id": "13f9b721",
   "metadata": {},
   "source": [
    "## Feature analysis"
   ]
  },
  {
   "cell_type": "code",
   "execution_count": 76,
   "id": "a81d2fc3",
   "metadata": {},
   "outputs": [
    {
     "data": {
      "text/plain": [
       "<AxesSubplot:>"
      ]
     },
     "execution_count": 76,
     "metadata": {},
     "output_type": "execute_result"
    },
    {
     "data": {
      "image/png": "[encoded data removed]",
      "text/plain": [
       "<Figure size 1080x720 with 2 Axes>"
      ]
     },
     "metadata": {
      "needs_background": "light"
     },
     "output_type": "display_data"
    }
   ],
   "source": [
    "plt.figure(figsize=(15,10))\n",
    "sns.heatmap(new_df.corr())"
   ]
  },
  {
   "cell_type": "markdown",
   "id": "a3926b7c",
   "metadata": {},
   "source": [
    "The idea is to predict the values of *Income*, *OperatingCost* values using **Vehicles** features as one of the features. Then varying it, we can predict *Income* and *OperatingCost*"
   ]
  },
  {
   "cell_type": "markdown",
   "id": "62662efa",
   "metadata": {},
   "source": [
    "## ML part"
   ]
  },
  {
   "cell_type": "code",
   "execution_count": 77,
   "id": "c94ffd83",
   "metadata": {},
   "outputs": [
    {
     "name": "stderr",
     "output_type": "stream",
     "text": [
      "/opt/miniconda3/lib/python3.9/site-packages/pandas/core/frame.py:4906: SettingWithCopyWarning: \n",
      "A value is trying to be set on a copy of a slice from a DataFrame\n",
      "\n",
      "See the caveats in the documentation: https://pandas.pydata.org/pandas-docs/stable/user_guide/indexing.html#returning-a-view-versus-a-copy\n",
      "  return super().drop(\n"
     ]
    }
   ],
   "source": [
    "#save some random day for validation\n",
    "val_row = pd.DataFrame(new_df.loc[300]).T \n",
    "new_df.drop(300, inplace=True)\n",
    "\n",
    "val_row = val_row.drop(['Income','OperatingCost'], axis = 1)\n",
    "number_of_total_rows = 30\n",
    "val_row = val_row.append([val_row]*(number_of_total_rows-1),ignore_index=True)"
   ]
  },
  {
   "cell_type": "code",
   "execution_count": 78,
   "id": "9da12817",
   "metadata": {},
   "outputs": [],
   "source": [
    "from sklearn.ensemble import RandomForestRegressor\n",
    "from sklearn.model_selection import train_test_split\n",
    "from sklearn.metrics import r2_score\n",
    "from sklearn.metrics import mean_squared_error"
   ]
  },
  {
   "cell_type": "markdown",
   "id": "ce35cd29",
   "metadata": {},
   "source": [
    "### Predicting Income"
   ]
  },
  {
   "cell_type": "code",
   "execution_count": 79,
   "id": "46da799b",
   "metadata": {},
   "outputs": [
    {
     "data": {
      "text/plain": [
       "RandomForestRegressor()"
      ]
     },
     "execution_count": 79,
     "metadata": {},
     "output_type": "execute_result"
    }
   ],
   "source": [
    "x = new_df.drop(['Income','OperatingCost'], axis = 1)\n",
    "y = new_df['Income']\n",
    "\n",
    "x_train, x_test, y_train, y_test = train_test_split(x, y, test_size = 0.5, random_state = 42)\n",
    "\n",
    "regr = RandomForestRegressor()\n",
    "regr.fit(x_train,y_train)"
   ]
  },
  {
   "cell_type": "code",
   "execution_count": 80,
   "id": "0eb2be91",
   "metadata": {},
   "outputs": [],
   "source": [
    "#In a Jupyter environment, please rerun this cell to show the HTML representation or trust the notebook. \n",
    "#On GitHub, the HTML representation is unable to render, please try loading this page with nbviewer.org."
   ]
  },
  {
   "cell_type": "code",
   "execution_count": 81,
   "id": "772a1465",
   "metadata": {},
   "outputs": [],
   "source": [
    "y_prediction =  regr.predict(x_test)"
   ]
  },
  {
   "cell_type": "code",
   "execution_count": 82,
   "id": "8907b33b",
   "metadata": {},
   "outputs": [
    {
     "name": "stdout",
     "output_type": "stream",
     "text": [
      "r2 0.9448449446371959\n",
      "mse 327154141115910.6\n",
      "rmse 18087402.829480816\n"
     ]
    }
   ],
   "source": [
    "score=r2_score(y_test,y_prediction)\n",
    "print('r2',score)\n",
    "print('mse',mean_squared_error(y_test,y_prediction))\n",
    "print('rmse',np.sqrt(mean_squared_error(y_test,y_prediction)))"
   ]
  },
  {
   "cell_type": "code",
   "execution_count": 83,
   "id": "3ff31ddc",
   "metadata": {},
   "outputs": [
    {
     "data": {
      "text/plain": [
       "[<matplotlib.lines.Line2D at 0x13f83b310>]"
      ]
     },
     "execution_count": 83,
     "metadata": {},
     "output_type": "execute_result"
    },
    {
     "data": {
      "image/png": "[encoded data removed]",
      "text/plain": [
       "<Figure size 432x288 with 1 Axes>"
      ]
     },
     "metadata": {
      "needs_background": "light"
     },
     "output_type": "display_data"
    }
   ],
   "source": [
    "minimum_vehicles = new_df['Vehicles'].min()\n",
    "maximum_vehicles = new_df['Vehicles'].max()\n",
    "val_row['Vehicles'] = np.linspace(minimum_vehicles, maximum_vehicles, num=number_of_total_rows)\n",
    "\n",
    "#varying Vehicles parameter influencing Income\n",
    "y_prediction_income = regr.predict(val_row)\n",
    "plt.plot(val_row['Vehicles'], y_prediction_income)"
   ]
  },
  {
   "cell_type": "markdown",
   "id": "8c5b0324",
   "metadata": {},
   "source": [
    "### Predicting Costs"
   ]
  },
  {
   "cell_type": "code",
   "execution_count": 84,
   "id": "7beca5ed",
   "metadata": {},
   "outputs": [
    {
     "data": {
      "text/plain": [
       "RandomForestRegressor()"
      ]
     },
     "execution_count": 84,
     "metadata": {},
     "output_type": "execute_result"
    }
   ],
   "source": [
    "x = new_df.drop(['Income','OperatingCost'], axis = 1)\n",
    "y = new_df['OperatingCost']\n",
    "\n",
    "x_train, x_test, y_train, y_test = train_test_split(x, y, test_size = 0.5, random_state = 42)\n",
    "\n",
    "regr = RandomForestRegressor()\n",
    "regr.fit(x_train,y_train)"
   ]
  },
  {
   "cell_type": "code",
   "execution_count": 85,
   "id": "8ba371a6",
   "metadata": {},
   "outputs": [],
   "source": [
    "y_prediction =  regr.predict(x_test)"
   ]
  },
  {
   "cell_type": "code",
   "execution_count": 86,
   "id": "c4c4be22",
   "metadata": {},
   "outputs": [
    {
     "name": "stdout",
     "output_type": "stream",
     "text": [
      "r2 0.9207133457676819\n",
      "mse 7265757229514.314\n",
      "rmse 2695506.859481963\n"
     ]
    }
   ],
   "source": [
    "score=r2_score(y_test,y_prediction)\n",
    "print('r2',score)\n",
    "print('mse',mean_squared_error(y_test,y_prediction))\n",
    "print('rmse',np.sqrt(mean_squared_error(y_test,y_prediction)))"
   ]
  },
  {
   "cell_type": "code",
   "execution_count": 87,
   "id": "060b499c",
   "metadata": {},
   "outputs": [],
   "source": [
    "minimum_vehicles = new_df['Vehicles'].min()\n",
    "maximum_vehicles = new_df['Vehicles'].max()\n",
    "val_row['Vehicles'] = np.linspace(minimum_vehicles, maximum_vehicles, num=number_of_total_rows)\n",
    "\n",
    "#varying Vehicles parameter influencing Income\n",
    "y_prediction_operation_cost = regr.predict(val_row)"
   ]
  },
  {
   "cell_type": "code",
   "execution_count": 88,
   "id": "63557bf2",
   "metadata": {
    "scrolled": true
   },
   "outputs": [
    {
     "data": {
      "text/plain": [
       "[<matplotlib.lines.Line2D at 0x13f8a75e0>]"
      ]
     },
     "execution_count": 88,
     "metadata": {},
     "output_type": "execute_result"
    },
    {
     "data": {
      "image/png": "[encoded data removed]",
      "text/plain": [
       "<Figure size 432x288 with 1 Axes>"
      ]
     },
     "metadata": {
      "needs_background": "light"
     },
     "output_type": "display_data"
    }
   ],
   "source": [
    "plt.plot(val_row['Vehicles'], y_prediction_operation_cost)"
   ]
  },
  {
   "cell_type": "markdown",
   "id": "d5fff0cb",
   "metadata": {},
   "source": [
    "## Vehicle <-> revenue"
   ]
  },
  {
   "cell_type": "code",
   "execution_count": 89,
   "id": "9e029ea2",
   "metadata": {},
   "outputs": [],
   "source": [
    "val_income = y_prediction_income - y_prediction_operation_cost"
   ]
  },
  {
   "cell_type": "code",
   "execution_count": 90,
   "id": "75da01c1",
   "metadata": {},
   "outputs": [
    {
     "data": {
      "text/plain": [
       "[<matplotlib.lines.Line2D at 0x13f908820>]"
      ]
     },
     "execution_count": 90,
     "metadata": {},
     "output_type": "execute_result"
    },
    {
     "data": {
      "image/png": "[encoded data removed]",
      "text/plain": [
       "<Figure size 432x288 with 1 Axes>"
      ]
     },
     "metadata": {
      "needs_background": "light"
     },
     "output_type": "display_data"
    }
   ],
   "source": [
    "plt.plot(val_row['Vehicles'], val_income)"
   ]
  },
  {
   "cell_type": "code",
   "execution_count": null,
   "id": "c0bc1f44",
   "metadata": {},
   "outputs": [],
   "source": []
  },
  {
   "cell_type": "code",
   "execution_count": null,
   "id": "2acf13f8",
   "metadata": {},
   "outputs": [],
   "source": []
  }
 ],
 "metadata": {
  "kernelspec": {
   "display_name": "Python 3 (ipykernel)",
   "language": "python",
   "name": "python3"
  },
  "language_info": {
   "codemirror_mode": {
    "name": "ipython",
    "version": 3
   },
   "file_extension": ".py",
   "mimetype": "text/x-python",
   "name": "python",
   "nbconvert_exporter": "python",
   "pygments_lexer": "ipython3",
   "version": "3.9.10"
  }
 },
 "nbformat": 4,
 "nbformat_minor": 5
}
